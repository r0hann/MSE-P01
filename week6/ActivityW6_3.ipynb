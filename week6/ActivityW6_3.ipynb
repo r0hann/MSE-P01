{
 "cells": [
  {
   "cell_type": "code",
   "execution_count": 3,
   "id": "55cfaf20",
   "metadata": {},
   "outputs": [
    {
     "name": "stdout",
     "output_type": "stream",
     "text": [
      "{'a': 1, 'e': 5}\n"
     ]
    }
   ],
   "source": [
    "dict1 = {'a': 1, 'b': 2, 'c': 3}\n",
    "dict2 = {'d': 4, 'e': 5, 'f': 6}\n",
    "merged_dict = {**{k: v for k, v in dict1. items () if k in 'aeiou'}, **{k: v for k, v in dict2.items() if k in 'aeiou'}}\n",
    "print(merged_dict)"
   ]
  },
  {
   "cell_type": "code",
   "execution_count": 4,
   "id": "a36361dd",
   "metadata": {},
   "outputs": [
    {
     "data": {
      "text/plain": [
       "''"
      ]
     },
     "execution_count": 4,
     "metadata": {},
     "output_type": "execute_result"
    }
   ],
   "source": [
    "_"
   ]
  },
  {
   "cell_type": "code",
   "execution_count": 5,
   "id": "27166bd1",
   "metadata": {},
   "outputs": [
    {
     "data": {
      "text/plain": [
       "(1, 3)"
      ]
     },
     "execution_count": 5,
     "metadata": {},
     "output_type": "execute_result"
    }
   ],
   "source": [
    "x, _, y = (1, \"ignored\", 3)\n",
    "x, y"
   ]
  },
  {
   "cell_type": "code",
   "execution_count": null,
   "id": "ccf264e5",
   "metadata": {},
   "outputs": [],
   "source": []
  },
  {
   "cell_type": "code",
   "execution_count": 6,
   "id": "7d569c69",
   "metadata": {},
   "outputs": [
    {
     "data": {
      "text/plain": [
       "'ignored'"
      ]
     },
     "execution_count": 6,
     "metadata": {},
     "output_type": "execute_result"
    }
   ],
   "source": [
    "_"
   ]
  },
  {
   "cell_type": "code",
   "execution_count": 7,
   "id": "a5f20880",
   "metadata": {},
   "outputs": [
    {
     "name": "stdout",
     "output_type": "stream",
     "text": [
      "0 John\n",
      "1 Mike\n",
      "2 Sam\n",
      "3 Mark\n",
      "4 Ben\n"
     ]
    }
   ],
   "source": [
    "names = [\"John\", \"Mike\", \"Sam\", \"Mark\", \"Ben\"]\n",
    "for i in range(len(names)):\n",
    "  print(i, names [i])"
   ]
  },
  {
   "cell_type": "code",
   "execution_count": 9,
   "id": "60f2f242",
   "metadata": {},
   "outputs": [
    {
     "name": "stdout",
     "output_type": "stream",
     "text": [
      "0 John\n",
      "1 Mike\n",
      "2 Sam\n",
      "3 Mark\n",
      "4 Ben\n"
     ]
    }
   ],
   "source": [
    "for i, name in enumerate(names) :\n",
    "  print(i, name)"
   ]
  },
  {
   "cell_type": "code",
   "execution_count": 10,
   "id": "08c749af",
   "metadata": {},
   "outputs": [
    {
     "name": "stdout",
     "output_type": "stream",
     "text": [
      "1 John\n",
      "2 Mike\n",
      "3 Sam\n",
      "4 Mark\n",
      "5 Ben\n"
     ]
    }
   ],
   "source": [
    "for i, name in enumerate(names, start=1):\n",
    "  print(i, name)"
   ]
  },
  {
   "cell_type": "code",
   "execution_count": 11,
   "id": "2a5af1d9",
   "metadata": {},
   "outputs": [],
   "source": [
    "ages = [20, 24, 18, 32, 31]"
   ]
  },
  {
   "cell_type": "code",
   "execution_count": 12,
   "id": "40c8966f",
   "metadata": {},
   "outputs": [
    {
     "name": "stdout",
     "output_type": "stream",
     "text": [
      "<zip object at 0x107a36bc0>\n"
     ]
    }
   ],
   "source": [
    "paired =  zip(names, ages)\n",
    "print(paired)"
   ]
  },
  {
   "cell_type": "code",
   "execution_count": 13,
   "id": "ee989803",
   "metadata": {},
   "outputs": [
    {
     "name": "stdout",
     "output_type": "stream",
     "text": [
      "[('John', 20), ('Mike', 24), ('Sam', 18), ('Mark', 32), ('Ben', 31)]\n"
     ]
    }
   ],
   "source": [
    "paired = list(zip(names, ages))\n",
    "print(paired)"
   ]
  },
  {
   "cell_type": "code",
   "execution_count": 14,
   "id": "de3a32bc",
   "metadata": {},
   "outputs": [
    {
     "name": "stdout",
     "output_type": "stream",
     "text": [
      "{'John': 20, 'Mike': 24, 'Sam': 18, 'Mark': 32, 'Ben': 31}\n"
     ]
    }
   ],
   "source": [
    "paired = dict(zip(names, ages))\n",
    "print(paired)"
   ]
  },
  {
   "cell_type": "code",
   "execution_count": 23,
   "id": "fff7a70f",
   "metadata": {},
   "outputs": [
    {
     "name": "stdout",
     "output_type": "stream",
     "text": [
      "<class 'list'>\n",
      "dict_grade {'Alice': 'A', 'Bob': 'B', 'Cathy': 'A+', 'Mike': 'A'}\n",
      "[(1, 2, 3), ('Alice', 'Bob', 'Cathy'), ('A', 'B', 'A+')]\n",
      "{1: ('Alice', 'A'), 2: ('Bob', 'B'), 3: ('Cathy', 'A+')}\n",
      "{1: ('Alice', 'A'), 2: ('Bob', 'B'), 3: ('Cathy', 'A+')}\n",
      "{1: 'Alice, 20', 2: 'Bob, 24', 3: 'Cathy, 18'}\n"
     ]
    }
   ],
   "source": [
    "# List of student IDs\n",
    "ids = [1, 2, 3]\n",
    "\n",
    "# List of student names\n",
    "names = ['Alice', 'Bob', 'Cathy', 'Mike']\n",
    "\n",
    "# List of student grades\n",
    "grades = ['A', 'B', 'A+', 'A']\n",
    "\n",
    "# Print the type of ids\n",
    "print(type(ids))\n",
    "\n",
    "# Zip ids, names, and grades together (only up to the shortest list length)\n",
    "zipped = zip(ids, names, grades)\n",
    "\n",
    "# Unzip the zipped object back into separate lists\n",
    "unzipped = list(zip(*zipped))\n",
    "\n",
    "# Zip names and grades together, then convert to a dictionary\n",
    "zipped_grade = zip(names, grades)\n",
    "dict_grade = dict(zipped_grade)\n",
    "print(\"dict_grade\", dict_grade)\n",
    "\n",
    "# Print the unzipped lists\n",
    "print(unzipped)\n",
    "\n",
    "# Create a dictionary mapping ids to (name, grade) tuples\n",
    "students = dict(zip(ids, zip(names, grades)))\n",
    "print(students)\n",
    "\n",
    "students = dict(zip(ids, zip(names, grades)))\n",
    "print(students)\n",
    "\n",
    "# Create a dictionary mapping ids to (name, grade) tuples using a for loop\n",
    "students_loop = {id_: f'{name}, {age}' for id_, name, age in zip(ids, names, ages)}\n",
    "print(students_loop)"
   ]
  },
  {
   "cell_type": "code",
   "execution_count": null,
   "id": "b25b5f86",
   "metadata": {},
   "outputs": [],
   "source": [
    "# Create a list of lambda functions, each multiplying its input by an even number (0, 2, 4, 6, 8)\n",
    "# The 'i=i*2' in the lambda's default argument captures the current value of i*2 at each iteration,\n",
    "# avoiding the common late binding issue in Python lambdas inside loops.\n",
    "data = []\n",
    "for i in range(5):\n",
    "  data.append(lambda a, i=i*2: i * a)"
   ]
  },
  {
   "cell_type": "code",
   "execution_count": 29,
   "id": "d76f6644",
   "metadata": {},
   "outputs": [
    {
     "name": "stdout",
     "output_type": "stream",
     "text": [
      "0\n",
      "20\n",
      "40\n",
      "60\n",
      "80\n"
     ]
    }
   ],
   "source": [
    "for f in data:\n",
    "  print(f(10))"
   ]
  },
  {
   "cell_type": "code",
   "execution_count": null,
   "id": "4e19116b",
   "metadata": {},
   "outputs": [],
   "source": []
  }
 ],
 "metadata": {
  "kernelspec": {
   "display_name": "PSEP1Env",
   "language": "python",
   "name": "python3"
  },
  "language_info": {
   "codemirror_mode": {
    "name": "ipython",
    "version": 3
   },
   "file_extension": ".py",
   "mimetype": "text/x-python",
   "name": "python",
   "nbconvert_exporter": "python",
   "pygments_lexer": "ipython3",
   "version": "3.11.4"
  }
 },
 "nbformat": 4,
 "nbformat_minor": 5
}
