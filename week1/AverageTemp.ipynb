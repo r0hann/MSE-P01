{
 "cells": [
  {
   "cell_type": "code",
   "execution_count": 7,
   "id": "5a8b57ce",
   "metadata": {},
   "outputs": [
    {
     "name": "stdout",
     "output_type": "stream",
     "text": [
      "Average temperature: 18.34°C\n"
     ]
    }
   ],
   "source": [
    "import numpy as np\n",
    "temperatures = np.array([18.5, 19, 20, 25.0, 2, 30, 13.9])\n",
    "\n",
    "# 1. Find the average temperature\n",
    "average_temp = np.mean(temperatures)\n",
    "print(f\"Average temperature: {average_temp:.2f}°C\")"
   ]
  },
  {
   "cell_type": "code",
   "execution_count": 8,
   "id": "59dd2722",
   "metadata": {},
   "outputs": [
    {
     "name": "stdout",
     "output_type": "stream",
     "text": [
      "Highest temperature: 30.0°C\n",
      "Lowest temperature: 2.0°C\n"
     ]
    }
   ],
   "source": [
    "# 2. Highest and lowest temperature recorded\n",
    "highest_temp = np.max(temperatures)\n",
    "lowest_temp = np.min(temperatures)\n",
    "print(f\"Highest temperature: {highest_temp}°C\")\n",
    "print(f\"Lowest temperature: {lowest_temp}°C\")"
   ]
  },
  {
   "cell_type": "code",
   "execution_count": 9,
   "id": "bb98b32b",
   "metadata": {},
   "outputs": [
    {
     "name": "stdout",
     "output_type": "stream",
     "text": [
      "Temperatures in Fahrenheit: [65.3  66.2  68.   77.   35.6  86.   57.02]\n"
     ]
    }
   ],
   "source": [
    "# 3. Convert temperatures to Fahrenheit\n",
    "def celsius_to_fahrenheit(celsius):\n",
    "    return (celsius * 9/5) + 32\n",
    "fahrenheit_temps = celsius_to_fahrenheit(temperatures)\n",
    "print(\"Temperatures in Fahrenheit:\", fahrenheit_temps)"
   ]
  },
  {
   "cell_type": "code",
   "execution_count": 10,
   "id": "afa1b427",
   "metadata": {},
   "outputs": [
    {
     "name": "stdout",
     "output_type": "stream",
     "text": [
      "Days with temperature above 20°C (by index): [3 5]\n"
     ]
    }
   ],
   "source": [
    "# 4. Identify the days (by index) where the temperature was above 20°C\n",
    "above_20_indices = np.where(temperatures > 20)[0]\n",
    "print(\"Days with temperature above 20°C (by index):\", above_20_indices)"
   ]
  }
 ],
 "metadata": {
  "kernelspec": {
   "display_name": "PSEDemoEnv",
   "language": "python",
   "name": "python3"
  },
  "language_info": {
   "codemirror_mode": {
    "name": "ipython",
    "version": 3
   },
   "file_extension": ".py",
   "mimetype": "text/x-python",
   "name": "python",
   "nbconvert_exporter": "python",
   "pygments_lexer": "ipython3",
   "version": "3.11.4"
  }
 },
 "nbformat": 4,
 "nbformat_minor": 5
}
