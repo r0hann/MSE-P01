{
 "cells": [
  {
   "cell_type": "code",
   "execution_count": 5,
   "id": "ba4c0971",
   "metadata": {},
   "outputs": [
    {
     "name": "stdout",
     "output_type": "stream",
     "text": [
      "Number of '__' in the text file: 2\n"
     ]
    }
   ],
   "source": [
    "count = 0\n",
    "with open('sample_text.txt', 'r') as file:\n",
    "    for line in file:\n",
    "        for i in range(len(line) - 1):  # loop through pairs of characters\n",
    "            if line[i] == '_' and line[i + 1] == '_':\n",
    "                count += 1\n",
    "\n",
    "print(f\"Number of '__' in the text file: {count}\")\n"
   ]
  },
  {
   "cell_type": "code",
   "execution_count": null,
   "id": "1354dc89",
   "metadata": {},
   "outputs": [],
   "source": []
  }
 ],
 "metadata": {
  "kernelspec": {
   "display_name": "PSEP1Env",
   "language": "python",
   "name": "python3"
  },
  "language_info": {
   "codemirror_mode": {
    "name": "ipython",
    "version": 3
   },
   "file_extension": ".py",
   "mimetype": "text/x-python",
   "name": "python",
   "nbconvert_exporter": "python",
   "pygments_lexer": "ipython3",
   "version": "3.11.4"
  }
 },
 "nbformat": 4,
 "nbformat_minor": 5
}
