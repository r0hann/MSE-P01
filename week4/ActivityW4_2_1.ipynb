{
 "cells": [
  {
   "cell_type": "code",
   "execution_count": 5,
   "id": "ba4c0971",
   "metadata": {},
   "outputs": [
    {
     "name": "stdout",
     "output_type": "stream",
     "text": [
      "Number of '__' in the text file: 2\n"
     ]
    }
   ],
   "source": [
    "count = 0\n",
    "with open('sample_text.txt', 'r') as file:\n",
    "    for line in file:\n",
    "        for i in range(len(line) - 1):  # loop through pairs of characters\n",
    "            if line[i] == '_' and line[i + 1] == '_':\n",
    "                count += 1\n",
    "\n",
    "print(f\"Number of '__' in the text file: {count}\")\n"
   ]
  },
  {
   "cell_type": "code",
   "execution_count": null,
   "id": "1354dc89",
   "metadata": {},
   "outputs": [],
   "source": [
    "import pandas as pd\n",
    "\n",
    "# Part 1: Count '__' in the text file\n",
    "with open('sample_text.txt', 'r') as file:\n",
    "    text = file.read()\n",
    "    underscore_count = text.count('__')\n",
    "    print(f\"Number of '__' in the text file: {underscore_count}\")\n",
    "\n",
    "# Part 2: Load the Parquet file and print number of features\n",
    "# Replace 'your_file.parquet' with the actual path to your Parquet file\n",
    "parquet_file = './Sample_data_2.parquet'\n",
    "df = pd.read_parquet(parquet_file)\n",
    "print(f\"Number of features (columns) in the Parquet file: {df.shape[1]}\")"
   ]
  }
 ],
 "metadata": {
  "kernelspec": {
   "display_name": "PSEP1Env",
   "language": "python",
   "name": "python3"
  },
  "language_info": {
   "codemirror_mode": {
    "name": "ipython",
    "version": 3
   },
   "file_extension": ".py",
   "mimetype": "text/x-python",
   "name": "python",
   "nbconvert_exporter": "python",
   "pygments_lexer": "ipython3",
   "version": "3.11.4"
  }
 },
 "nbformat": 4,
 "nbformat_minor": 5
}
